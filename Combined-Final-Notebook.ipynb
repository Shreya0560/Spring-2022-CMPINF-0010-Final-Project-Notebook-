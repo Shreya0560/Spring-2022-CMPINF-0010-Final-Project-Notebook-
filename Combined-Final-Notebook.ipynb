{
 "cells": [
  {
   "cell_type": "markdown",
   "metadata": {},
   "source": [
    "# Which Pittsburgh Neighborhood is the Healthiest?"
   ]
  },
  {
   "cell_type": "markdown",
   "metadata": {},
   "source": [
    "Big Ideas Final Project by Shreya Agrawal, Paul Desaro, and Lauren Jablunovsky"
   ]
  },
  {
   "cell_type": "markdown",
   "metadata": {},
   "source": [
    "The Covid-19 Pandemic has shown us that our health is not something we should take for granted. Our health is integrated into everything that we do, so it makes sense to prioritize health and wellness in our daily lives. When tasked with determining the best neighborhood in Pittsburgh, our team came to the conclusion that the *best* neighborhood will ultimately be the **healthiest** neighborhood."
   ]
  },
  {
   "cell_type": "markdown",
   "metadata": {},
   "source": [
    "### What determines a healthy neighborhood?"
   ]
  },
  {
   "cell_type": "markdown",
   "metadata": {},
   "source": [
    "There are so many factors to consider when thinking about what makes a neigborhood healthy. While environmental factors continue to have an increased role in determining the quality of necessities like air and water, our group leaned into other, non-environmental metrics for quantifying the health of Pittsburgh neighborhoods. The three metrics we decided to consider are **nutrition, access to medical care, and opportunity for recreation and fitness.** Orinigally, we considered focusing on just one of any of these three metrics and looked for datasets that fit under just one idea, but then realized our analysis would be far more compelling if we combined analysis under all *three* ideas into the overall metric of health."
   ]
  },
  {
   "cell_type": "markdown",
   "metadata": {},
   "source": [
    "### The Datasets"
   ]
  },
  {
   "cell_type": "markdown",
   "metadata": {},
   "source": [
    "All of our datasets come from the WPRDC website. For the nutrition metric, Lauren analysed the dataset containing information about the Allegheny County Farmers Market Nutrition Program, specifically the CSV file containing the current/most recent markets.  https://data.wprdc.org/dataset/allegheny-county-farmers-markets-locations."
   ]
  },
  {
   "cell_type": "markdown",
   "metadata": {},
   "source": [
    "## OTHER TEAM MEMBERS DATASETS AND DESCRIPTION HERE"
   ]
  },
  {
   "cell_type": "markdown",
   "metadata": {},
   "source": [
    "# Team Members' individual data analysis"
   ]
  },
  {
   "cell_type": "markdown",
   "metadata": {},
   "source": [
    "# Combined Metric Analysis to determine Best Neighborhood"
   ]
  },
  {
   "cell_type": "markdown",
   "metadata": {},
   "source": [
    "# Team Member conclusions"
   ]
  }
 ],
 "metadata": {
  "kernelspec": {
   "display_name": "Python 3",
   "language": "python",
   "name": "python3"
  },
  "language_info": {
   "codemirror_mode": {
    "name": "ipython",
    "version": 3
   },
   "file_extension": ".py",
   "mimetype": "text/x-python",
   "name": "python",
   "nbconvert_exporter": "python",
   "pygments_lexer": "ipython3",
   "version": "3.8.3"
  }
 },
 "nbformat": 4,
 "nbformat_minor": 4
}
